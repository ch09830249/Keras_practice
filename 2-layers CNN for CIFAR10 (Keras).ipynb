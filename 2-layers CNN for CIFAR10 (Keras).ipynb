{
 "cells": [
  {
   "cell_type": "code",
   "execution_count": 74,
   "id": "d7683c43",
   "metadata": {
    "scrolled": true
   },
   "outputs": [
    {
     "name": "stdout",
     "output_type": "stream",
     "text": [
      "train: 50000\n",
      "test: 10000\n",
      "(50000, 32, 32, 3)\n",
      "[158 112  49]\n",
      "[[3]\n",
      " [8]\n",
      " [8]\n",
      " ...\n",
      " [5]\n",
      " [1]\n",
      " [7]]\n",
      "[0.61960787 0.4392157  0.19215687]\n",
      "(50000, 1)\n"
     ]
    },
    {
     "data": {
      "text/plain": [
       "array([[0., 0., 0., 0., 0., 0., 1., 0., 0., 0.],\n",
       "       [0., 0., 0., 0., 0., 0., 0., 0., 0., 1.],\n",
       "       [0., 0., 0., 0., 0., 0., 0., 0., 0., 1.],\n",
       "       [0., 0., 0., 0., 1., 0., 0., 0., 0., 0.],\n",
       "       [0., 1., 0., 0., 0., 0., 0., 0., 0., 0.]], dtype=float32)"
      ]
     },
     "execution_count": 74,
     "metadata": {},
     "output_type": "execute_result"
    }
   ],
   "source": [
    "import numpy as np\n",
    "import pandas as pd\n",
    "from keras.utils import np_utils\n",
    "np.random.seed(10)\n",
    "from keras.datasets import cifar10\n",
    "(x_train, y_train), (x_test, y_test) = cifar10.load_data()\n",
    "\n",
    "print('train:', len(x_train))\n",
    "print('test:', len(x_test))\n",
    "\n",
    "print(x_train.shape)\n",
    "print(x_test[0][0][0])\n",
    "print(y_test)\n",
    "\n",
    "label_dict = {0:'airplane', 1:'automobile',2:'bird',3:'cat',4:'deer',5:'dog',6:'frog',7:'horse',8:'ship',9:'truck'}\n",
    "\n",
    "x_train_normalize = x_train.astype('float32')/255\n",
    "x_test_normalize = x_test.astype('float32')/255\n",
    "print(x_test_normalize[0][0][0])\n",
    "\n",
    "print(y_train.shape)\n",
    "y_train[:6]\n",
    "\n",
    "y_train_onehot = np_utils.to_categorical(y_train)\n",
    "y_test_onehot = np_utils.to_categorical(y_test)\n",
    "\n",
    "y_train_onehot[:5]"
   ]
  },
  {
   "cell_type": "code",
   "execution_count": 75,
   "id": "0e35c37a",
   "metadata": {
    "scrolled": true
   },
   "outputs": [],
   "source": [
    "from keras.models import Sequential\n",
    "from keras.layers import Dropout, Flatten, Conv2D, MaxPooling2D, Activation, ZeroPadding2D, Dense"
   ]
  },
  {
   "cell_type": "code",
   "execution_count": 76,
   "id": "421a3d87",
   "metadata": {},
   "outputs": [],
   "source": [
    "model = Sequential()\n",
    "model.add(Conv2D(filters=32, kernel_size=(3,3), padding='same', input_shape=(32,32,3), activation='relu')) #para: 3*3*3*32+32"
   ]
  },
  {
   "cell_type": "code",
   "execution_count": 77,
   "id": "27fc7a03",
   "metadata": {},
   "outputs": [],
   "source": [
    "model.add(Dropout(rate=0.25))"
   ]
  },
  {
   "cell_type": "code",
   "execution_count": 78,
   "id": "0eca3bb8",
   "metadata": {},
   "outputs": [],
   "source": [
    "model.add(MaxPooling2D(pool_size=(2,2)))"
   ]
  },
  {
   "cell_type": "code",
   "execution_count": 79,
   "id": "94fcf2a0",
   "metadata": {},
   "outputs": [],
   "source": [
    "model.add(Conv2D(filters=64, kernel_size=(3,3), padding='same', activation='relu')) #para: 3*3*32*64+64 "
   ]
  },
  {
   "cell_type": "code",
   "execution_count": 80,
   "id": "fb03e07b",
   "metadata": {},
   "outputs": [],
   "source": [
    "model.add(Dropout(rate=0.25))"
   ]
  },
  {
   "cell_type": "code",
   "execution_count": 81,
   "id": "dce273bc",
   "metadata": {},
   "outputs": [],
   "source": [
    "model.add(MaxPooling2D(pool_size=(2,2)))"
   ]
  },
  {
   "cell_type": "code",
   "execution_count": 82,
   "id": "ff3c2a08",
   "metadata": {},
   "outputs": [],
   "source": [
    "model.add(Flatten())"
   ]
  },
  {
   "cell_type": "code",
   "execution_count": 83,
   "id": "20355016",
   "metadata": {},
   "outputs": [],
   "source": [
    "model.add(Dropout(rate=0.25))"
   ]
  },
  {
   "cell_type": "code",
   "execution_count": 84,
   "id": "c156e3f4",
   "metadata": {},
   "outputs": [],
   "source": [
    "model.add(Dense(1024, activation='relu'))  #para: 4096*1024+1024     4096 = 8*8*64"
   ]
  },
  {
   "cell_type": "code",
   "execution_count": 85,
   "id": "f075f003",
   "metadata": {},
   "outputs": [],
   "source": [
    "model.add(Dropout(0.25))"
   ]
  },
  {
   "cell_type": "code",
   "execution_count": 86,
   "id": "5a0782f1",
   "metadata": {},
   "outputs": [],
   "source": [
    "model.add(Dense(10,activation='softmax'))  #para: 1024*10+10"
   ]
  },
  {
   "cell_type": "code",
   "execution_count": null,
   "id": "c94ee2ed",
   "metadata": {},
   "outputs": [],
   "source": [
    "print(model.summary())"
   ]
  },
  {
   "cell_type": "code",
   "execution_count": null,
   "id": "6899fdaa",
   "metadata": {
    "scrolled": false
   },
   "outputs": [],
   "source": [
    "model.compile(loss='categorical_crossentropy', optimizer='adam', metrics=['accuracy'])\n",
    "train_history = model.fit(x=x_train_normalize, y=y_train_onehot, validation_split=0.2, epochs=10, batch_size=128, verbose=1)"
   ]
  },
  {
   "cell_type": "code",
   "execution_count": null,
   "id": "f2a3a776",
   "metadata": {},
   "outputs": [],
   "source": [
    "import matplotlib.pyplot as plt\n",
    "def show_train_history(train_acc, test_acc):\n",
    "    plt.plot(train_history.history[train_acc])\n",
    "    plt.plot(train_history.history[test_acc])\n",
    "    plt.title('Train history')\n",
    "    plt.ylabel('Accuracy')\n",
    "    plt.xlabel('Epoch')\n",
    "    plt.legend(['train', 'test'], loc='upper left')\n",
    "    plt.show()"
   ]
  },
  {
   "cell_type": "code",
   "execution_count": null,
   "id": "94406bf8",
   "metadata": {
    "scrolled": true
   },
   "outputs": [],
   "source": [
    "show_train_history('accuracy', 'val_accuracy')"
   ]
  },
  {
   "cell_type": "code",
   "execution_count": null,
   "id": "c1fb6f7b",
   "metadata": {
    "scrolled": true
   },
   "outputs": [],
   "source": [
    "show_train_history('loss', 'val_loss')"
   ]
  },
  {
   "cell_type": "code",
   "execution_count": null,
   "id": "6b671674",
   "metadata": {
    "scrolled": true
   },
   "outputs": [],
   "source": [
    "scores = model.evaluate(x_test_normalize, y_test_onehot, verbose=0)\n",
    "print()\n",
    "print('accuracy = ', scores[1])"
   ]
  },
  {
   "cell_type": "code",
   "execution_count": null,
   "id": "66bf6224",
   "metadata": {
    "scrolled": false
   },
   "outputs": [],
   "source": [
    "prediction = model.predict_classes(x_test_normalize)"
   ]
  },
  {
   "cell_type": "code",
   "execution_count": null,
   "id": "2ad907d7",
   "metadata": {
    "scrolled": true
   },
   "outputs": [],
   "source": [
    "prediction[:10]"
   ]
  },
  {
   "cell_type": "code",
   "execution_count": null,
   "id": "fa08b09d",
   "metadata": {},
   "outputs": [],
   "source": [
    "Predicted_Prob = model.predict(x_test_normalize)"
   ]
  },
  {
   "cell_type": "code",
   "execution_count": null,
   "id": "2093b302",
   "metadata": {},
   "outputs": [],
   "source": [
    "def show_Predicted_Prob(y, prediction, x_img ,x_predicted_prob, i):\n",
    "    print('label: ', label_dict[y[i][0]], '    predict: ', label_dict[prediction[i]])\n",
    "    plt.figure(figsize=(2,2))\n",
    "    plt.imshow(np.reshape(x_test[i], (32,32,3)))\n",
    "    plt.show()\n",
    "    for j in range(10):\n",
    "        print(label_dict[j]+' Probability:%1.9f'%(x_predicted_prob[i][j]))"
   ]
  },
  {
   "cell_type": "code",
   "execution_count": null,
   "id": "81fba192",
   "metadata": {
    "scrolled": true
   },
   "outputs": [],
   "source": [
    "show_Predicted_Prob(y_test, prediction, x_test, Predicted_Prob, 1)"
   ]
  },
  {
   "cell_type": "code",
   "execution_count": null,
   "id": "33518919",
   "metadata": {},
   "outputs": [],
   "source": [
    "prediction.shape"
   ]
  },
  {
   "cell_type": "code",
   "execution_count": null,
   "id": "197c4edb",
   "metadata": {},
   "outputs": [],
   "source": [
    "y_test.shape"
   ]
  },
  {
   "cell_type": "code",
   "execution_count": null,
   "id": "a1ace2db",
   "metadata": {},
   "outputs": [],
   "source": [
    "y_test.reshape(-1)"
   ]
  },
  {
   "cell_type": "code",
   "execution_count": null,
   "id": "cfe03882",
   "metadata": {
    "scrolled": false
   },
   "outputs": [],
   "source": [
    "import pandas as pd\n",
    "pd.crosstab(y_test.reshape(-1),prediction, rownames=['label'], colnames=['predict'])\n",
    "#print(y_test_label)\n",
    "#print(prediction)"
   ]
  },
  {
   "cell_type": "code",
   "execution_count": null,
   "id": "32e5dbe7",
   "metadata": {
    "scrolled": false
   },
   "outputs": [],
   "source": [
    "df = pd.DataFrame({'label':y_test, 'predict':prediction})\n",
    "df[:20]"
   ]
  },
  {
   "cell_type": "code",
   "execution_count": null,
   "id": "124f3d29",
   "metadata": {
    "scrolled": true
   },
   "outputs": [],
   "source": [
    "df[(df.label!=df.predict)]"
   ]
  },
  {
   "cell_type": "code",
   "execution_count": null,
   "id": "93fc46ac",
   "metadata": {},
   "outputs": [],
   "source": []
  }
 ],
 "metadata": {
  "kernelspec": {
   "display_name": "Python 3",
   "language": "python",
   "name": "python3"
  },
  "language_info": {
   "codemirror_mode": {
    "name": "ipython",
    "version": 3
   },
   "file_extension": ".py",
   "mimetype": "text/x-python",
   "name": "python",
   "nbconvert_exporter": "python",
   "pygments_lexer": "ipython3",
   "version": "3.8.3"
  }
 },
 "nbformat": 4,
 "nbformat_minor": 5
}
