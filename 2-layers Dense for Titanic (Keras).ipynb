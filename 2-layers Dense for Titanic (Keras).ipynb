{
 "cells": [
  {
   "cell_type": "code",
   "execution_count": 1,
   "id": "d7683c43",
   "metadata": {
    "scrolled": true
   },
   "outputs": [],
   "source": [
    "import urllib.request \n",
    "import os\n",
    "\n",
    "url=\"http://biostat.app.vumc.org/wiki/pub/Main/DataSets/titanic3.xls\"\n",
    "filepath=\"data/titanic3.xls\"\n",
    "if not os.path.isfile(filepath):\n",
    "    result=urllib.request.urlretrieve(url,filepath)\n",
    "    print('download: ', result)"
   ]
  },
  {
   "cell_type": "code",
   "execution_count": 2,
   "id": "410724c5",
   "metadata": {},
   "outputs": [
    {
     "data": {
      "text/plain": [
       "array([[  1.    ,   0.    ,  29.    ,   0.    ,   0.    , 211.3375,\n",
       "          0.    ,   0.    ,   1.    ],\n",
       "       [  1.    ,   1.    ,   0.9167,   1.    ,   2.    , 151.55  ,\n",
       "          0.    ,   0.    ,   1.    ],\n",
       "       [  1.    ,   0.    ,   2.    ,   1.    ,   2.    , 151.55  ,\n",
       "          0.    ,   0.    ,   1.    ]])"
      ]
     },
     "execution_count": 2,
     "metadata": {},
     "output_type": "execute_result"
    }
   ],
   "source": [
    "import numpy as np\n",
    "import pandas as pd\n",
    "all_df = pd.read_excel(filepath)\n",
    "all_df[:5]\n",
    "cols=['survived', 'name', 'pclass', 'sex', 'age', 'sibsp', 'parch', 'fare', 'embarked']\n",
    "all_df=all_df[cols]\n",
    "all_df[:5]\n",
    "\n",
    "df=all_df.drop(['name'], axis=1)\n",
    "all_df.isnull().sum()\n",
    "age_mean=df['age'].mean()\n",
    "df['age'] = df['age'].fillna(age_mean)\n",
    "age_mean=df['fare'].mean()\n",
    "df['fare'] = df['fare'].fillna(age_mean)\n",
    "df['sex'] = df['sex'].map({'female':0, 'male':1}).astype(int)\n",
    "x_onehot_df=pd.get_dummies(data=df, columns=['embarked'])\n",
    "x_onehot_df[:2]\n",
    "ndarray=x_onehot_df.values\n",
    "ndarray.shape\n",
    "ndarray[:2]\n",
    "labels=ndarray[:, 0]\n",
    "features=ndarray[:, 1:]\n",
    "labels[:3]\n",
    "features[:3]"
   ]
  },
  {
   "cell_type": "code",
   "execution_count": 3,
   "id": "0e35c37a",
   "metadata": {
    "scrolled": true
   },
   "outputs": [
    {
     "name": "stdout",
     "output_type": "stream",
     "text": [
      "total: 1309  train:  1063  test:  246\n"
     ]
    }
   ],
   "source": [
    "from sklearn import preprocessing\n",
    "minmax_scale=preprocessing.MinMaxScaler(feature_range=(0,1))\n",
    "Scaledfeatures=minmax_scale.fit_transform(features)\n",
    "Scaledfeatures[:2]\n",
    "\n",
    "msk = np.random.rand(len(all_df))<0.8\n",
    "# print(msk)\n",
    "train_df = all_df[msk]\n",
    "test_df = all_df[~msk]\n",
    "print('total:', len(all_df), ' train: ', len(train_df), ' test: ', len(test_df))"
   ]
  },
  {
   "cell_type": "code",
   "execution_count": 4,
   "id": "f2d5e62d",
   "metadata": {},
   "outputs": [],
   "source": [
    "def preprocessdata(raw_df):\n",
    "    df=raw_df.drop(['name'], axis=1)\n",
    "    age_mean=df['age'].mean()\n",
    "    df['age'] = df['age'].fillna(age_mean)\n",
    "    fare_mean=df['fare'].mean()\n",
    "    df['fare'] = df['fare'].fillna(fare_mean)\n",
    "    df['sex'] = df['sex'].map({'female':0, 'male':1}).astype(int)\n",
    "    x_onehot_df=pd.get_dummies(data=df, columns=['embarked'])\n",
    "    \n",
    "    ndarray=x_onehot_df.values\n",
    "    labels=ndarray[:, 0]\n",
    "    features=ndarray[:, 1:]\n",
    "    \n",
    "    minmax_scale=preprocessing.MinMaxScaler(feature_range=(0,1))\n",
    "    Scaledfeatures=minmax_scale.fit_transform(features)\n",
    "    \n",
    "    return Scaledfeatures,labels"
   ]
  },
  {
   "cell_type": "code",
   "execution_count": 5,
   "id": "65b8bfc1",
   "metadata": {},
   "outputs": [
    {
     "data": {
      "text/plain": [
       "array([1., 0.])"
      ]
     },
     "execution_count": 5,
     "metadata": {},
     "output_type": "execute_result"
    }
   ],
   "source": [
    "train_feature, train_label = preprocessdata(train_df)\n",
    "test_feature, test_label = preprocessdata(test_df)\n",
    "train_feature[:2]\n",
    "train_label[:2]"
   ]
  },
  {
   "cell_type": "code",
   "execution_count": 6,
   "id": "421a3d87",
   "metadata": {},
   "outputs": [],
   "source": [
    "from keras.models import Sequential\n",
    "from keras.layers import Dense, Dropout\n",
    "model = Sequential()\n",
    "model.add(Dense(units=40, input_dim=9, kernel_initializer='uniform', activation='relu')) #para: 9*40+40\n",
    "model.add(Dense(units=30, kernel_initializer='uniform', activation='relu')) #para: 40*30+30\n",
    "model.add(Dense(units=1, kernel_initializer='uniform', activation='sigmoid')) #para: 30*1+1"
   ]
  },
  {
   "cell_type": "code",
   "execution_count": 7,
   "id": "c94ee2ed",
   "metadata": {
    "scrolled": true
   },
   "outputs": [
    {
     "name": "stdout",
     "output_type": "stream",
     "text": [
      "Model: \"sequential\"\n",
      "_________________________________________________________________\n",
      "Layer (type)                 Output Shape              Param #   \n",
      "=================================================================\n",
      "dense (Dense)                (None, 40)                400       \n",
      "_________________________________________________________________\n",
      "dense_1 (Dense)              (None, 30)                1230      \n",
      "_________________________________________________________________\n",
      "dense_2 (Dense)              (None, 1)                 31        \n",
      "=================================================================\n",
      "Total params: 1,661\n",
      "Trainable params: 1,661\n",
      "Non-trainable params: 0\n",
      "_________________________________________________________________\n",
      "None\n"
     ]
    }
   ],
   "source": [
    "print(model.summary())"
   ]
  },
  {
   "cell_type": "code",
   "execution_count": 8,
   "id": "6899fdaa",
   "metadata": {
    "scrolled": false
   },
   "outputs": [
    {
     "name": "stdout",
     "output_type": "stream",
     "text": [
      "Epoch 1/30\n",
      "32/32 - 0s - loss: 0.6879 - accuracy: 0.5941 - val_loss: 0.6609 - val_accuracy: 0.7944\n",
      "Epoch 2/30\n",
      "32/32 - 0s - loss: 0.6548 - accuracy: 0.6077 - val_loss: 0.5519 - val_accuracy: 0.7944\n",
      "Epoch 3/30\n",
      "32/32 - 0s - loss: 0.5833 - accuracy: 0.7123 - val_loss: 0.4749 - val_accuracy: 0.7850\n",
      "Epoch 4/30\n",
      "32/32 - 0s - loss: 0.5178 - accuracy: 0.7835 - val_loss: 0.4495 - val_accuracy: 0.7944\n",
      "Epoch 5/30\n",
      "32/32 - 0s - loss: 0.4966 - accuracy: 0.7699 - val_loss: 0.4463 - val_accuracy: 0.7944\n",
      "Epoch 6/30\n",
      "32/32 - 0s - loss: 0.4818 - accuracy: 0.7793 - val_loss: 0.4389 - val_accuracy: 0.8037\n",
      "Epoch 7/30\n",
      "32/32 - 0s - loss: 0.4730 - accuracy: 0.7751 - val_loss: 0.4327 - val_accuracy: 0.7944\n",
      "Epoch 8/30\n",
      "32/32 - 0s - loss: 0.4688 - accuracy: 0.7824 - val_loss: 0.4331 - val_accuracy: 0.8224\n",
      "Epoch 9/30\n",
      "32/32 - 0s - loss: 0.4662 - accuracy: 0.7772 - val_loss: 0.4323 - val_accuracy: 0.8318\n",
      "Epoch 10/30\n",
      "32/32 - 0s - loss: 0.4620 - accuracy: 0.7845 - val_loss: 0.4315 - val_accuracy: 0.8318\n",
      "Epoch 11/30\n",
      "32/32 - 0s - loss: 0.4609 - accuracy: 0.7929 - val_loss: 0.4319 - val_accuracy: 0.8318\n",
      "Epoch 12/30\n",
      "32/32 - 0s - loss: 0.4615 - accuracy: 0.7793 - val_loss: 0.4236 - val_accuracy: 0.8224\n",
      "Epoch 13/30\n",
      "32/32 - 0s - loss: 0.4568 - accuracy: 0.7929 - val_loss: 0.4278 - val_accuracy: 0.8318\n",
      "Epoch 14/30\n",
      "32/32 - 0s - loss: 0.4557 - accuracy: 0.7950 - val_loss: 0.4218 - val_accuracy: 0.8224\n",
      "Epoch 15/30\n",
      "32/32 - 0s - loss: 0.4551 - accuracy: 0.7866 - val_loss: 0.4230 - val_accuracy: 0.7944\n",
      "Epoch 16/30\n",
      "32/32 - 0s - loss: 0.4540 - accuracy: 0.7887 - val_loss: 0.4238 - val_accuracy: 0.8411\n",
      "Epoch 17/30\n",
      "32/32 - 0s - loss: 0.4514 - accuracy: 0.7918 - val_loss: 0.4239 - val_accuracy: 0.8411\n",
      "Epoch 18/30\n",
      "32/32 - 0s - loss: 0.4528 - accuracy: 0.7971 - val_loss: 0.4240 - val_accuracy: 0.8411\n",
      "Epoch 19/30\n",
      "32/32 - 0s - loss: 0.4500 - accuracy: 0.7950 - val_loss: 0.4224 - val_accuracy: 0.8318\n",
      "Epoch 20/30\n",
      "32/32 - 0s - loss: 0.4496 - accuracy: 0.7950 - val_loss: 0.4229 - val_accuracy: 0.8224\n",
      "Epoch 21/30\n",
      "32/32 - 0s - loss: 0.4497 - accuracy: 0.7939 - val_loss: 0.4234 - val_accuracy: 0.8411\n",
      "Epoch 22/30\n",
      "32/32 - 0s - loss: 0.4488 - accuracy: 0.7950 - val_loss: 0.4229 - val_accuracy: 0.8411\n",
      "Epoch 23/30\n",
      "32/32 - 0s - loss: 0.4472 - accuracy: 0.7950 - val_loss: 0.4223 - val_accuracy: 0.8411\n",
      "Epoch 24/30\n",
      "32/32 - 0s - loss: 0.4503 - accuracy: 0.7856 - val_loss: 0.4265 - val_accuracy: 0.8411\n",
      "Epoch 25/30\n",
      "32/32 - 0s - loss: 0.4486 - accuracy: 0.7981 - val_loss: 0.4255 - val_accuracy: 0.8411\n",
      "Epoch 26/30\n",
      "32/32 - 0s - loss: 0.4462 - accuracy: 0.7929 - val_loss: 0.4227 - val_accuracy: 0.8411\n",
      "Epoch 27/30\n",
      "32/32 - 0s - loss: 0.4462 - accuracy: 0.7929 - val_loss: 0.4274 - val_accuracy: 0.8411\n",
      "Epoch 28/30\n",
      "32/32 - 0s - loss: 0.4486 - accuracy: 0.7897 - val_loss: 0.4250 - val_accuracy: 0.8411\n",
      "Epoch 29/30\n",
      "32/32 - 0s - loss: 0.4462 - accuracy: 0.8013 - val_loss: 0.4221 - val_accuracy: 0.8411\n",
      "Epoch 30/30\n",
      "32/32 - 0s - loss: 0.4451 - accuracy: 0.8033 - val_loss: 0.4230 - val_accuracy: 0.8411\n"
     ]
    }
   ],
   "source": [
    "model.compile(loss='binary_crossentropy', optimizer='adam', metrics=['accuracy'])\n",
    "train_history = model.fit(x=train_feature, y=train_label, validation_split=0.1, epochs=30, batch_size=30, verbose=2)"
   ]
  },
  {
   "cell_type": "code",
   "execution_count": 9,
   "id": "f2a3a776",
   "metadata": {},
   "outputs": [],
   "source": [
    "import matplotlib.pyplot as plt\n",
    "def show_train_history(train_history, train, validation):\n",
    "    plt.plot(train_history.history[train])\n",
    "    plt.plot(train_history.history[validation])\n",
    "    plt.title('Train history')\n",
    "    plt.ylabel(train)\n",
    "    plt.xlabel('Epoch')\n",
    "    plt.legend(['train', 'validation'], loc='upper left')\n",
    "    plt.show()"
   ]
  },
  {
   "cell_type": "code",
   "execution_count": 10,
   "id": "94406bf8",
   "metadata": {
    "scrolled": true
   },
   "outputs": [
    {
     "data": {
      "image/png": "[encoded data removed]",
      "text/plain": [
       "<Figure size 432x288 with 1 Axes>"
      ]
     },
     "metadata": {
      "needs_background": "light"
     },
     "output_type": "display_data"
    }
   ],
   "source": [
    "show_train_history(train_history, 'accuracy', 'val_accuracy')"
   ]
  },
  {
   "cell_type": "code",
   "execution_count": 11,
   "id": "c1fb6f7b",
   "metadata": {
    "scrolled": true
   },
   "outputs": [
    {
     "data": {
      "image/png": "[encoded data removed]",
      "text/plain": [
       "<Figure size 432x288 with 1 Axes>"
      ]
     },
     "metadata": {
      "needs_background": "light"
     },
     "output_type": "display_data"
    }
   ],
   "source": [
    "show_train_history(train_history, 'loss', 'val_loss')"
   ]
  },
  {
   "cell_type": "code",
   "execution_count": 12,
   "id": "6b671674",
   "metadata": {
    "scrolled": false
   },
   "outputs": [
    {
     "name": "stdout",
     "output_type": "stream",
     "text": [
      "8/8 [==============================] - 0s 1ms/step - loss: 0.4488 - accuracy: 0.8089\n",
      "\n",
      "accuracy =  0.8089430928230286\n"
     ]
    }
   ],
   "source": [
    "scores = model.evaluate(test_feature, test_label, verbose=1)\n",
    "print()\n",
    "print('accuracy = ', scores[1])"
   ]
  },
  {
   "cell_type": "code",
   "execution_count": 13,
   "id": "c06069d5",
   "metadata": {
    "scrolled": true
   },
   "outputs": [
    {
     "data": {
      "text/html": [
       "<div>\n",
       "<style scoped>\n",
       "    .dataframe tbody tr th:only-of-type {\n",
       "        vertical-align: middle;\n",
       "    }\n",
       "\n",
       "    .dataframe tbody tr th {\n",
       "        vertical-align: top;\n",
       "    }\n",
       "\n",
       "    .dataframe thead th {\n",
       "        text-align: right;\n",
       "    }\n",
       "</style>\n",
       "<table border=\"1\" class=\"dataframe\">\n",
       "  <thead>\n",
       "    <tr style=\"text-align: right;\">\n",
       "      <th></th>\n",
       "      <th>survived</th>\n",
       "      <th>name</th>\n",
       "      <th>pclass</th>\n",
       "      <th>sex</th>\n",
       "      <th>age</th>\n",
       "      <th>sibsp</th>\n",
       "      <th>parch</th>\n",
       "      <th>fare</th>\n",
       "      <th>embarked</th>\n",
       "    </tr>\n",
       "  </thead>\n",
       "  <tbody>\n",
       "    <tr>\n",
       "      <th>0</th>\n",
       "      <td>0</td>\n",
       "      <td>Jack</td>\n",
       "      <td>3</td>\n",
       "      <td>male</td>\n",
       "      <td>23.0</td>\n",
       "      <td>1</td>\n",
       "      <td>0</td>\n",
       "      <td>5.0</td>\n",
       "      <td>S</td>\n",
       "    </tr>\n",
       "    <tr>\n",
       "      <th>1</th>\n",
       "      <td>1</td>\n",
       "      <td>Rose</td>\n",
       "      <td>1</td>\n",
       "      <td>female</td>\n",
       "      <td>20.0</td>\n",
       "      <td>1</td>\n",
       "      <td>0</td>\n",
       "      <td>100.0</td>\n",
       "      <td>S</td>\n",
       "    </tr>\n",
       "  </tbody>\n",
       "</table>\n",
       "</div>"
      ],
      "text/plain": [
       "   survived  name  pclass     sex   age  sibsp  parch   fare embarked\n",
       "0         0  Jack       3    male  23.0      1      0    5.0        S\n",
       "1         1  Rose       1  female  20.0      1      0  100.0        S"
      ]
     },
     "execution_count": 13,
     "metadata": {},
     "output_type": "execute_result"
    }
   ],
   "source": [
    "Jack = pd.Series([0, 'Jack', 3, 'male', 23, 1, 0, 5.0000, 'S'])\n",
    "Rose = pd.Series([1, 'Rose', 1, 'female', 20, 1, 0, 100.0000, 'S'])\n",
    "JR_df = pd.DataFrame([list(Jack),list(Rose)], columns=['survived', 'name', 'pclass', 'sex', 'age', 'sibsp', 'parch', 'fare', 'embarked'])\n",
    "all_df = pd.concat([all_df, JR_df])\n",
    "all_df[-2:]"
   ]
  },
  {
   "cell_type": "code",
   "execution_count": 14,
   "id": "66bf6224",
   "metadata": {
    "scrolled": false
   },
   "outputs": [],
   "source": [
    "all_feature, label = preprocessdata(all_df)"
   ]
  },
  {
   "cell_type": "code",
   "execution_count": 15,
   "id": "fa08b09d",
   "metadata": {},
   "outputs": [
    {
     "data": {
      "text/plain": [
       "array([[0.9826646 ],\n",
       "       [0.50778824],\n",
       "       [0.97777045],\n",
       "       [0.32508007],\n",
       "       [0.9716902 ],\n",
       "       [0.25121164],\n",
       "       [0.93361294],\n",
       "       [0.29084235],\n",
       "       [0.9259697 ],\n",
       "       [0.25937378]], dtype=float32)"
      ]
     },
     "execution_count": 15,
     "metadata": {},
     "output_type": "execute_result"
    }
   ],
   "source": [
    "Predicted_Prob = model.predict(all_feature)\n",
    "Predicted_Prob[:10]"
   ]
  },
  {
   "cell_type": "code",
   "execution_count": 16,
   "id": "d2b885e8",
   "metadata": {
    "scrolled": false
   },
   "outputs": [
    {
     "data": {
      "text/html": [
       "<div>\n",
       "<style scoped>\n",
       "    .dataframe tbody tr th:only-of-type {\n",
       "        vertical-align: middle;\n",
       "    }\n",
       "\n",
       "    .dataframe tbody tr th {\n",
       "        vertical-align: top;\n",
       "    }\n",
       "\n",
       "    .dataframe thead th {\n",
       "        text-align: right;\n",
       "    }\n",
       "</style>\n",
       "<table border=\"1\" class=\"dataframe\">\n",
       "  <thead>\n",
       "    <tr style=\"text-align: right;\">\n",
       "      <th></th>\n",
       "      <th>survived</th>\n",
       "      <th>name</th>\n",
       "      <th>pclass</th>\n",
       "      <th>sex</th>\n",
       "      <th>age</th>\n",
       "      <th>sibsp</th>\n",
       "      <th>parch</th>\n",
       "      <th>fare</th>\n",
       "      <th>embarked</th>\n",
       "      <th>Predicted_Probability</th>\n",
       "    </tr>\n",
       "  </thead>\n",
       "  <tbody>\n",
       "    <tr>\n",
       "      <th>0</th>\n",
       "      <td>0</td>\n",
       "      <td>Jack</td>\n",
       "      <td>3</td>\n",
       "      <td>male</td>\n",
       "      <td>23.0</td>\n",
       "      <td>1</td>\n",
       "      <td>0</td>\n",
       "      <td>5.0</td>\n",
       "      <td>S</td>\n",
       "      <td>0.132336</td>\n",
       "    </tr>\n",
       "    <tr>\n",
       "      <th>1</th>\n",
       "      <td>1</td>\n",
       "      <td>Rose</td>\n",
       "      <td>1</td>\n",
       "      <td>female</td>\n",
       "      <td>20.0</td>\n",
       "      <td>1</td>\n",
       "      <td>0</td>\n",
       "      <td>100.0</td>\n",
       "      <td>S</td>\n",
       "      <td>0.976911</td>\n",
       "    </tr>\n",
       "  </tbody>\n",
       "</table>\n",
       "</div>"
      ],
      "text/plain": [
       "   survived  name  pclass     sex   age  sibsp  parch   fare embarked  \\\n",
       "0         0  Jack       3    male  23.0      1      0    5.0        S   \n",
       "1         1  Rose       1  female  20.0      1      0  100.0        S   \n",
       "\n",
       "   Predicted_Probability  \n",
       "0               0.132336  \n",
       "1               0.976911  "
      ]
     },
     "execution_count": 16,
     "metadata": {},
     "output_type": "execute_result"
    }
   ],
   "source": [
    "pd=all_df\n",
    "pd.insert(len(all_df.columns), 'Predicted_Probability', Predicted_Prob)\n",
    "pd[-2:]"
   ]
  },
  {
   "cell_type": "code",
   "execution_count": 17,
   "id": "93fc46ac",
   "metadata": {},
   "outputs": [
    {
     "data": {
      "text/html": [
       "<div>\n",
       "<style scoped>\n",
       "    .dataframe tbody tr th:only-of-type {\n",
       "        vertical-align: middle;\n",
       "    }\n",
       "\n",
       "    .dataframe tbody tr th {\n",
       "        vertical-align: top;\n",
       "    }\n",
       "\n",
       "    .dataframe thead th {\n",
       "        text-align: right;\n",
       "    }\n",
       "</style>\n",
       "<table border=\"1\" class=\"dataframe\">\n",
       "  <thead>\n",
       "    <tr style=\"text-align: right;\">\n",
       "      <th></th>\n",
       "      <th>survived</th>\n",
       "      <th>name</th>\n",
       "      <th>pclass</th>\n",
       "      <th>sex</th>\n",
       "      <th>age</th>\n",
       "      <th>sibsp</th>\n",
       "      <th>parch</th>\n",
       "      <th>fare</th>\n",
       "      <th>embarked</th>\n",
       "      <th>Predicted_Probability</th>\n",
       "    </tr>\n",
       "  </thead>\n",
       "  <tbody>\n",
       "    <tr>\n",
       "      <th>2</th>\n",
       "      <td>0</td>\n",
       "      <td>Allison, Miss. Helen Loraine</td>\n",
       "      <td>1</td>\n",
       "      <td>female</td>\n",
       "      <td>2.0</td>\n",
       "      <td>1</td>\n",
       "      <td>2</td>\n",
       "      <td>151.5500</td>\n",
       "      <td>S</td>\n",
       "      <td>0.977770</td>\n",
       "    </tr>\n",
       "    <tr>\n",
       "      <th>4</th>\n",
       "      <td>0</td>\n",
       "      <td>Allison, Mrs. Hudson J C (Bessie Waldo Daniels)</td>\n",
       "      <td>1</td>\n",
       "      <td>female</td>\n",
       "      <td>25.0</td>\n",
       "      <td>1</td>\n",
       "      <td>2</td>\n",
       "      <td>151.5500</td>\n",
       "      <td>S</td>\n",
       "      <td>0.971690</td>\n",
       "    </tr>\n",
       "    <tr>\n",
       "      <th>105</th>\n",
       "      <td>0</td>\n",
       "      <td>Evans, Miss. Edith Corse</td>\n",
       "      <td>1</td>\n",
       "      <td>female</td>\n",
       "      <td>36.0</td>\n",
       "      <td>0</td>\n",
       "      <td>0</td>\n",
       "      <td>31.6792</td>\n",
       "      <td>C</td>\n",
       "      <td>0.984203</td>\n",
       "    </tr>\n",
       "    <tr>\n",
       "      <th>169</th>\n",
       "      <td>0</td>\n",
       "      <td>Isham, Miss. Ann Elizabeth</td>\n",
       "      <td>1</td>\n",
       "      <td>female</td>\n",
       "      <td>50.0</td>\n",
       "      <td>0</td>\n",
       "      <td>0</td>\n",
       "      <td>28.7125</td>\n",
       "      <td>C</td>\n",
       "      <td>0.981375</td>\n",
       "    </tr>\n",
       "    <tr>\n",
       "      <th>286</th>\n",
       "      <td>0</td>\n",
       "      <td>Straus, Mrs. Isidor (Rosalie Ida Blun)</td>\n",
       "      <td>1</td>\n",
       "      <td>female</td>\n",
       "      <td>63.0</td>\n",
       "      <td>1</td>\n",
       "      <td>0</td>\n",
       "      <td>221.7792</td>\n",
       "      <td>S</td>\n",
       "      <td>0.950382</td>\n",
       "    </tr>\n",
       "  </tbody>\n",
       "</table>\n",
       "</div>"
      ],
      "text/plain": [
       "     survived                                             name  pclass  \\\n",
       "2           0                     Allison, Miss. Helen Loraine       1   \n",
       "4           0  Allison, Mrs. Hudson J C (Bessie Waldo Daniels)       1   \n",
       "105         0                         Evans, Miss. Edith Corse       1   \n",
       "169         0                       Isham, Miss. Ann Elizabeth       1   \n",
       "286         0           Straus, Mrs. Isidor (Rosalie Ida Blun)       1   \n",
       "\n",
       "        sex   age  sibsp  parch      fare embarked  Predicted_Probability  \n",
       "2    female   2.0      1      2  151.5500        S               0.977770  \n",
       "4    female  25.0      1      2  151.5500        S               0.971690  \n",
       "105  female  36.0      0      0   31.6792        C               0.984203  \n",
       "169  female  50.0      0      0   28.7125        C               0.981375  \n",
       "286  female  63.0      1      0  221.7792        S               0.950382  "
      ]
     },
     "execution_count": 17,
     "metadata": {},
     "output_type": "execute_result"
    }
   ],
   "source": [
    "pd[(pd['survived']==0)&(pd['Predicted_Probability']>0.9)]"
   ]
  },
  {
   "cell_type": "code",
   "execution_count": null,
   "id": "6c0240b9",
   "metadata": {},
   "outputs": [],
   "source": []
  }
 ],
 "metadata": {
  "kernelspec": {
   "display_name": "Python 3",
   "language": "python",
   "name": "python3"
  },
  "language_info": {
   "codemirror_mode": {
    "name": "ipython",
    "version": 3
   },
   "file_extension": ".py",
   "mimetype": "text/x-python",
   "name": "python",
   "nbconvert_exporter": "python",
   "pygments_lexer": "ipython3",
   "version": "3.8.3"
  }
 },
 "nbformat": 4,
 "nbformat_minor": 5
}
